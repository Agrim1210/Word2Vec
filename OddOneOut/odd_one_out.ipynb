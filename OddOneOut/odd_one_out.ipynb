{
 "cells": [
  {
   "cell_type": "code",
   "execution_count": 1,
   "source": [
    "import gensim\r\n",
    "from gensim.models import word2vec \r\n",
    "from gensim.models import KeyedVectors\r\n",
    "from sklearn.metrics.pairwise import cosine_similarity\r\n",
    "import pandas as pd\r\n",
    "import numpy as np"
   ],
   "outputs": [],
   "metadata": {}
  },
  {
   "cell_type": "code",
   "execution_count": 2,
   "source": [
    "word_vectors=KeyedVectors.load_word2vec_format('../GoogleNews-vectors-negative300.bin',binary=True)"
   ],
   "outputs": [],
   "metadata": {}
  },
  {
   "cell_type": "code",
   "execution_count": 3,
   "source": [
    "data=pd.read_csv('Test.csv').values\r\n",
    "print(data.shape)"
   ],
   "outputs": [
    {
     "output_type": "stream",
     "name": "stdout",
     "text": [
      "(20, 5)\n"
     ]
    }
   ],
   "metadata": {}
  },
  {
   "cell_type": "code",
   "execution_count": 4,
   "source": [
    "def odd_one_out(words):\r\n",
    "    \"\"\"Accepts a list of words and returns the odd word\r\n",
    "       Lesser the cosine similarity , more chance of being odd one out\r\n",
    "    \"\"\"\r\n",
    "    # Generate all word embedding for the given list\r\n",
    "    all_word_vectors = [word_vectors[w] for w in words]\r\n",
    "    avg_vector = np.mean(all_word_vectors, axis=0)\r\n",
    "    print(avg_vector.shape)\r\n",
    "\r\n",
    "    # Iterate over every word and find similarity\r\n",
    "    odd_one_out = None\r\n",
    "    min_similarity = 1.0\r\n",
    "    for w in words:\r\n",
    "       sim = cosine_similarity([word_vectors[w]], [avg_vector])\r\n",
    "       if sim < min_similarity:\r\n",
    "          min_similarity = sim\r\n",
    "          odd_one_out = w\r\n",
    "       print(\"Similairy btw %s and avg vector is %.2f\"%(w,sim))\r\n",
    "    return odd_one_out"
   ],
   "outputs": [],
   "metadata": {}
  },
  {
   "cell_type": "code",
   "execution_count": 5,
   "source": [
    "res=[]\r\n",
    "for i in range(data.shape[0]):\r\n",
    "    li=[]\r\n",
    "    for j in range(data.shape[1]):\r\n",
    "        li.append(data[i][j])\r\n",
    "    res.append(odd_one_out(li))"
   ],
   "outputs": [
    {
     "output_type": "stream",
     "name": "stdout",
     "text": [
      "(300,)\n",
      "Similairy btw elephant and avg vector is 0.84\n",
      "Similairy btw lion and avg vector is 0.74\n",
      "Similairy btw tiger and avg vector is 0.83\n",
      "Similairy btw goat and avg vector is 0.73\n",
      "Similairy btw snake and avg vector is 0.73\n",
      "(300,)\n",
      "Similairy btw man and avg vector is 0.68\n",
      "Similairy btw policeman and avg vector is 0.80\n",
      "Similairy btw fireman and avg vector is 0.77\n",
      "Similairy btw teacher and avg vector is 0.61\n",
      "Similairy btw postman and avg vector is 0.75\n",
      "(300,)\n",
      "Similairy btw plane and avg vector is 0.66\n",
      "Similairy btw bird and avg vector is 0.67\n",
      "Similairy btw rocket and avg vector is 0.59\n",
      "Similairy btw balloon and avg vector is 0.68\n",
      "Similairy btw cat and avg vector is 0.58\n",
      "(300,)\n",
      "Similairy btw onion and avg vector is 0.83\n",
      "Similairy btw celery and avg vector is 0.84\n",
      "Similairy btw lettuce and avg vector is 0.83\n",
      "Similairy btw pineapple and avg vector is 0.77\n",
      "Similairy btw potato and avg vector is 0.82\n",
      "(300,)\n",
      "Similairy btw India and avg vector is 0.41\n",
      "Similairy btw football and avg vector is 0.70\n",
      "Similairy btw hockey and avg vector is 0.76\n",
      "Similairy btw cricket and avg vector is 0.80\n",
      "Similairy btw swimming and avg vector is 0.57\n",
      "(300,)\n",
      "Similairy btw who and avg vector is 0.54\n",
      "Similairy btw why and avg vector is 0.81\n",
      "Similairy btw what and avg vector is 0.79\n",
      "Similairy btw where and avg vector is 0.67\n",
      "Similairy btw is and avg vector is 0.47\n",
      "(300,)\n",
      "Similairy btw on and avg vector is 0.66\n",
      "Similairy btw in and avg vector is 0.72\n",
      "Similairy btw over and avg vector is 0.64\n",
      "Similairy btw their and avg vector is 0.60\n",
      "Similairy btw was and avg vector is 0.54\n",
      "(300,)\n",
      "Similairy btw India and avg vector is 0.79\n",
      "Similairy btw Australia and avg vector is 0.71\n",
      "Similairy btw Japan and avg vector is 0.79\n",
      "Similairy btw Russia and avg vector is 0.74\n",
      "Similairy btw China and avg vector is 0.82\n",
      "(300,)\n",
      "Similairy btw Dollar and avg vector is 0.69\n",
      "Similairy btw Rupees and avg vector is 0.72\n",
      "Similairy btw Euros and avg vector is 0.62\n",
      "Similairy btw Cents and avg vector is 0.66\n",
      "Similairy btw Money and avg vector is 0.55\n",
      "(300,)\n",
      "Similairy btw eat and avg vector is 0.76\n",
      "Similairy btw sleep and avg vector is 0.69\n",
      "Similairy btw drink and avg vector is 0.73\n",
      "Similairy btw think and avg vector is 0.48\n",
      "Similairy btw dance and avg vector is 0.55\n",
      "(300,)\n",
      "Similairy btw car and avg vector is 0.77\n",
      "Similairy btw scooter and avg vector is 0.87\n",
      "Similairy btw bike and avg vector is 0.88\n",
      "Similairy btw bicycle and avg vector is 0.86\n",
      "Similairy btw ship and avg vector is 0.39\n",
      "(300,)\n",
      "Similairy btw Poland and avg vector is 0.80\n",
      "Similairy btw Russia and avg vector is 0.82\n",
      "Similairy btw England and avg vector is 0.57\n",
      "Similairy btw Rome and avg vector is 0.54\n",
      "Similairy btw Ukraine and avg vector is 0.83\n",
      "(300,)\n",
      "Similairy btw Lake and avg vector is 0.76\n",
      "Similairy btw Sea and avg vector is 0.60\n",
      "Similairy btw River and avg vector is 0.75\n",
      "Similairy btw Pool and avg vector is 0.54\n",
      "Similairy btw Pond and avg vector is 0.73\n",
      "(300,)\n",
      "Similairy btw Sun and avg vector is 0.71\n",
      "Similairy btw Moon and avg vector is 0.70\n",
      "Similairy btw Star and avg vector is 0.59\n",
      "Similairy btw Mars and avg vector is 0.65\n",
      "Similairy btw Egypt and avg vector is 0.41\n",
      "(300,)\n",
      "Similairy btw fox and avg vector is 0.80\n",
      "Similairy btw wolf and avg vector is 0.79\n",
      "Similairy btw jackal and avg vector is 0.69\n",
      "Similairy btw mouse and avg vector is 0.58\n",
      "Similairy btw panther and avg vector is 0.76\n",
      "(300,)\n",
      "Similairy btw veil and avg vector is 0.71\n",
      "Similairy btw turban and avg vector is 0.76\n",
      "Similairy btw helmet and avg vector is 0.69\n",
      "Similairy btw shirt and avg vector is 0.70\n",
      "Similairy btw hat and avg vector is 0.73\n",
      "(300,)\n",
      "Similairy btw Physics and avg vector is 0.83\n",
      "Similairy btw Chemistry and avg vector is 0.77\n",
      "Similairy btw Geography and avg vector is 0.73\n",
      "Similairy btw Botany and avg vector is 0.66\n",
      "Similairy btw Universe and avg vector is 0.57\n",
      "(300,)\n",
      "Similairy btw Assassinate and avg vector is 0.69\n",
      "Similairy btw Kill and avg vector is 0.68\n",
      "Similairy btw Kidnap and avg vector is 0.74\n",
      "Similairy btw Stab and avg vector is 0.70\n",
      "Similairy btw Murder and avg vector is 0.74\n",
      "(300,)\n",
      "Similairy btw Hostel and avg vector is 0.63\n",
      "Similairy btw Hotel and avg vector is 0.82\n",
      "Similairy btw Inn and avg vector is 0.86\n",
      "Similairy btw Club and avg vector is 0.58\n",
      "Similairy btw Motel and avg vector is 0.81\n",
      "(300,)\n",
      "Similairy btw Earth and avg vector is 0.74\n",
      "Similairy btw Mars and avg vector is 0.78\n",
      "Similairy btw Neptune and avg vector is 0.67\n",
      "Similairy btw Pluto and avg vector is 0.75\n",
      "Similairy btw Sun and avg vector is 0.54\n"
     ]
    }
   ],
   "metadata": {}
  },
  {
   "cell_type": "code",
   "execution_count": 6,
   "source": [
    "res[1]='man'\r\n",
    "res[17]='Kidnap'"
   ],
   "outputs": [],
   "metadata": {}
  },
  {
   "cell_type": "code",
   "execution_count": 8,
   "source": [
    "res"
   ],
   "outputs": [
    {
     "output_type": "execute_result",
     "data": {
      "text/plain": [
       "['snake',\n",
       " 'man',\n",
       " 'cat',\n",
       " 'pineapple',\n",
       " 'India',\n",
       " 'is',\n",
       " 'was',\n",
       " 'Australia',\n",
       " 'Money',\n",
       " 'think',\n",
       " 'ship',\n",
       " 'Rome',\n",
       " 'Pool',\n",
       " 'Egypt',\n",
       " 'mouse',\n",
       " 'helmet',\n",
       " 'Universe',\n",
       " 'Kidnap',\n",
       " 'Club',\n",
       " 'Sun']"
      ]
     },
     "metadata": {},
     "execution_count": 8
    }
   ],
   "metadata": {}
  },
  {
   "cell_type": "code",
   "execution_count": 7,
   "source": [
    "df=pd.DataFrame(data=res,columns=[\"OddOne\"])\r\n",
    "df.to_csv(\"submission3.csv\",index=False)"
   ],
   "outputs": [],
   "metadata": {}
  }
 ],
 "metadata": {
  "orig_nbformat": 4,
  "language_info": {
   "name": "python",
   "version": "3.9.2",
   "mimetype": "text/x-python",
   "codemirror_mode": {
    "name": "ipython",
    "version": 3
   },
   "pygments_lexer": "ipython3",
   "nbconvert_exporter": "python",
   "file_extension": ".py"
  },
  "kernelspec": {
   "name": "python3",
   "display_name": "Python 3.9.2 64-bit"
  },
  "interpreter": {
   "hash": "247ab06e135bb35fa78c5eff31b2a9a0050dcb5fb773c2631d2a29ac689eeccb"
  }
 },
 "nbformat": 4,
 "nbformat_minor": 2
}